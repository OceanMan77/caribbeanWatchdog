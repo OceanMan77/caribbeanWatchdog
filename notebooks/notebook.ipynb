{
 "cells": [
  {
   "cell_type": "markdown",
   "metadata": {},
   "source": [
    "Drought\n",
    "Dust Haze\n",
    "Earthquakes\n",
    "Floods\n",
    "Landslides\n",
    "Manmade\n",
    "Severe Storms\n",
    "Temperatures Extreme\n",
    "Water Color\n",
    "Wildfires"
   ]
  }
 ],
 "metadata": {
  "language_info": {
   "name": "python"
  },
  "orig_nbformat": 4
 },
 "nbformat": 4,
 "nbformat_minor": 2
}
